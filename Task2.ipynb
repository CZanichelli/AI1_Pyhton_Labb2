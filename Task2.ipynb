{
 "cells": [
  {
   "cell_type": "markdown",
   "metadata": {},
   "source": [
    "## Task 2A"
   ]
  },
  {
   "cell_type": "code",
   "execution_count": 81,
   "metadata": {},
   "outputs": [
    {
     "ename": "ValueError",
     "evalue": "Mime type rendering requires nbformat>=4.2.0 but it is not installed",
     "output_type": "error",
     "traceback": [
      "\u001b[31m---------------------------------------------------------------------------\u001b[39m",
      "\u001b[31mValueError\u001b[39m                                Traceback (most recent call last)",
      "\u001b[36mCell\u001b[39m\u001b[36m \u001b[39m\u001b[32mIn[81]\u001b[39m\u001b[32m, line 56\u001b[39m\n\u001b[32m     53\u001b[39m fig.write_html(\u001b[33m\"\u001b[39m\u001b[33mVisualiseringar/andel_saknar_godkänt.html\u001b[39m\u001b[33m\"\u001b[39m)\n\u001b[32m     55\u001b[39m \u001b[38;5;66;03m# show \u001b[39;00m\n\u001b[32m---> \u001b[39m\u001b[32m56\u001b[39m \u001b[43mpio\u001b[49m\u001b[43m.\u001b[49m\u001b[43mshow\u001b[49m\u001b[43m(\u001b[49m\u001b[43mfig\u001b[49m\u001b[43m)\u001b[49m\n",
      "\u001b[36mFile \u001b[39m\u001b[32mc:\\Users\\Casper\\Documents\\Labb2\\AI1_Pyhton_Labb2\\.venv\\Lib\\site-packages\\plotly\\io\\_renderers.py:425\u001b[39m, in \u001b[36mshow\u001b[39m\u001b[34m(fig, renderer, validate, **kwargs)\u001b[39m\n\u001b[32m    420\u001b[39m     \u001b[38;5;28;01mraise\u001b[39;00m \u001b[38;5;167;01mValueError\u001b[39;00m(\n\u001b[32m    421\u001b[39m         \u001b[33m\"\u001b[39m\u001b[33mMime type rendering requires ipython but it is not installed\u001b[39m\u001b[33m\"\u001b[39m\n\u001b[32m    422\u001b[39m     )\n\u001b[32m    424\u001b[39m \u001b[38;5;28;01mif\u001b[39;00m \u001b[38;5;129;01mnot\u001b[39;00m nbformat \u001b[38;5;129;01mor\u001b[39;00m Version(nbformat.__version__) < Version(\u001b[33m\"\u001b[39m\u001b[33m4.2.0\u001b[39m\u001b[33m\"\u001b[39m):\n\u001b[32m--> \u001b[39m\u001b[32m425\u001b[39m     \u001b[38;5;28;01mraise\u001b[39;00m \u001b[38;5;167;01mValueError\u001b[39;00m(\n\u001b[32m    426\u001b[39m         \u001b[33m\"\u001b[39m\u001b[33mMime type rendering requires nbformat>=4.2.0 but it is not installed\u001b[39m\u001b[33m\"\u001b[39m\n\u001b[32m    427\u001b[39m     )\n\u001b[32m    429\u001b[39m display_jupyter_version_warnings()\n\u001b[32m    431\u001b[39m ipython_display.display(bundle, raw=\u001b[38;5;28;01mTrue\u001b[39;00m)\n",
      "\u001b[31mValueError\u001b[39m: Mime type rendering requires nbformat>=4.2.0 but it is not installed"
     ]
    }
   ],
   "source": [
    "import pandas as pd\n",
    "import plotly.express as px\n",
    "import plotly.io as pio\n",
    "\n",
    "\n",
    "df = pd.read_excel('betyg_o_prov_riksnivå.xlsx', skiprows=9)  # Read in the excelfile and skip the first 9 rows\n",
    "\n",
    "# Adding 'läsår' as column\n",
    "läsår = ['2018', '2019', '2020', '2021', '2022', '2023']\n",
    "\n",
    "#adding column\n",
    "df['Läsår'] = läsår * (len(df) // len(läsår)) + läsår[:len(df) % len(läsår)] #making sure every row gets the right year\n",
    "\n",
    "# Remove unwanted columns\n",
    "columns_to_drop = ['Unnamed: 0', 'Unnamed: 1', 'Unnamed: 2', 'Unnamed: 3', 'Unnamed: 4', 'Unnamed: 5', 'Unnamed: 6', 'Unnamed: 7', 'Unnamed: 8', 'Unnamed: 9']\n",
    "columns_in_data = df.columns\n",
    "\n",
    "#keeps columns that is in both the list and dataframe\n",
    "valid_columns_to_drop = [col for col in columns_to_drop if col in columns_in_data]\n",
    "\n",
    "# Removeing the columns\n",
    "df_1a_cleaned_filtered = df.drop(columns=valid_columns_to_drop)\n",
    "df_1a_cleaned_filtered = df_1a_cleaned_filtered.dropna(axis=1, how='all')\n",
    "\n",
    "\n",
    "\n",
    "# Changeing name on columns to make it more readable (if nessecary)\n",
    "df_1a_cleaned_filtered['Totalt'] = pd.to_numeric(df_1a_cleaned_filtered['Totalt'], errors='coerce')\n",
    "df_1a_cleaned_filtered['Flickor'] = pd.to_numeric(df_1a_cleaned_filtered['Flickor'], errors='coerce')\n",
    "df_1a_cleaned_filtered['Pojkar'] = pd.to_numeric(df_1a_cleaned_filtered['Pojkar'], errors='coerce')\n",
    "df_1a_cleaned_filtered['Totalt.1'] = pd.to_numeric(df_1a_cleaned_filtered['Totalt.1'], errors='coerce')\n",
    "df_1a_cleaned_filtered['Flickor.1'] = pd.to_numeric(df_1a_cleaned_filtered['Flickor.1'], errors='coerce')\n",
    "df_1a_cleaned_filtered['Pojkar.1'] = pd.to_numeric(df_1a_cleaned_filtered['Pojkar.1'], errors='coerce')\n",
    "\n",
    "# Calculate the ammount of students that is missing grades\n",
    "df_1a_cleaned_filtered['Andel_saknar_godkänt_totalt'] = (df_1a_cleaned_filtered['Totalt'] - df_1a_cleaned_filtered['Totalt.1']) / df_1a_cleaned_filtered['Totalt']\n",
    "df_1a_cleaned_filtered['Andel_saknar_godkänt_flickor'] = (df_1a_cleaned_filtered['Flickor'] - df_1a_cleaned_filtered['Flickor.1']) / df_1a_cleaned_filtered['Flickor']\n",
    "df_1a_cleaned_filtered['Andel_saknar_godkänt_pojkar'] = (df_1a_cleaned_filtered['Pojkar'] - df_1a_cleaned_filtered['Pojkar.1']) / df_1a_cleaned_filtered['Pojkar']\n",
    "\n",
    " # create line diagram\n",
    "fig = px.line(df_1a_cleaned_filtered, \n",
    "              x='Läsår', \n",
    "              y=['Andel_saknar_godkänt_totalt', 'Andel_saknar_godkänt_flickor', 'Andel_saknar_godkänt_pojkar'],\n",
    "              title='Andel elever som saknar godkänt betyg i ett eller fler ämnen (2018-2023)',\n",
    "              labels={'value': 'Andel saknar godkänt', 'Läsår': 'Läsår'},\n",
    "              markers=True)\n",
    "\n",
    "fig.update_layout(\n",
    "    yaxis_tickformat='.2%' \n",
    ")\n",
    "\n",
    "# Save the grapf as an html-file in \"Visualiseringar\"\n",
    "fig.write_html(\"Visualiseringar/andel_saknar_godkänt.html\")\n",
    "\n",
    "# show \n",
    "pio.show(fig)\n",
    "\n",
    "\n"
   ]
  },
  {
   "cell_type": "markdown",
   "metadata": {},
   "source": [
    "## Task 2b\n"
   ]
  }
 ],
 "metadata": {
  "kernelspec": {
   "display_name": ".venv",
   "language": "python",
   "name": "python3"
  },
  "language_info": {
   "codemirror_mode": {
    "name": "ipython",
    "version": 3
   },
   "file_extension": ".py",
   "mimetype": "text/x-python",
   "name": "python",
   "nbconvert_exporter": "python",
   "pygments_lexer": "ipython3",
   "version": "3.12.2"
  }
 },
 "nbformat": 4,
 "nbformat_minor": 2
}
