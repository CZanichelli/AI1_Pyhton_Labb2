{
 "cells": [
  {
   "cell_type": "code",
   "execution_count": 25,
   "metadata": {},
   "outputs": [
    {
     "name": "stdout",
     "output_type": "stream",
     "text": [
      "Tabell 1A\n",
      "   Grundskolan – Betyg och Prov – Riksnivå Unnamed: 1 Unnamed: 2 Unnamed: 3  \\\n",
      "12                                 2021/22     120525      58513      62012   \n",
      "13                                 2022/23     121369      59043      62326   \n",
      "14                                   därav        NaN        NaN        NaN   \n",
      "15                                  Kommun      96204      46478      49726   \n",
      "16                                   därav        NaN        NaN        NaN   \n",
      "\n",
      "   Unnamed: 4 Unnamed: 5 Unnamed: 6 Unnamed: 7 Unnamed: 8 Unnamed: 9  \n",
      "12     119891      58207      61684     117935      57312      60623  \n",
      "13     120742      58703      62039     118736      57781      60955  \n",
      "14        NaN        NaN        NaN        NaN        NaN        NaN  \n",
      "15      95991      46363      49628      94276      45588      48688  \n",
      "16        NaN        NaN        NaN        NaN        NaN        NaN  \n",
      "\n",
      "Tabell 1B\n",
      "   Grundskolan – Betyg och Prov – Riksnivå Unnamed: 1 Unnamed: 2 Unnamed: 3  \\\n",
      "11                                 2022/23      220.6      229.7      211.9   \n",
      "12                                   därav        NaN        NaN        NaN   \n",
      "13                                  Kommun      216.1      225.6      207.2   \n",
      "14                                 Enskild      237.9        245      230.8   \n",
      "15                                   därav        NaN        NaN        NaN   \n",
      "\n",
      "   Unnamed: 4 Unnamed: 5 Unnamed: 6 Unnamed: 7 Unnamed: 8 Unnamed: 9  \n",
      "11      228.5      238.2      219.3       26.8       25.5         28  \n",
      "12        NaN        NaN        NaN        NaN        NaN        NaN  \n",
      "13      223.6      233.8      214.1       28.9       27.4       30.3  \n",
      "14      247.2      254.8      239.7       18.7       18.4         19  \n",
      "15        NaN        NaN        NaN        NaN        NaN        NaN  \n",
      "\n",
      "Definitioner\n",
      "   Förklaringar och definitioner till tabell 1 A–B Unnamed: 1 Unnamed: 2  \\\n",
      "14                                             NaN        NaN        NaN   \n",
      "16        * Genomsnittligt meritvärde med 17 ämnen        NaN        NaN   \n",
      "17                                             NaN        NaN        NaN   \n",
      "18                                             NaN        NaN        NaN   \n",
      "20                                             NaN        NaN        NaN   \n",
      "\n",
      "                                           Unnamed: 5  \n",
      "14                                        320 poäng.   \n",
      "16  Meritvärdet beräknas genom att summan av betyg...  \n",
      "17  samt betyg i moderna språk som språkval (E=10,...  \n",
      "18               Det möjliga maxvärdet är 340 poäng.   \n",
      "20  Det genomsnittliga meritvärdet beräknas för de...  \n",
      "\n"
     ]
    }
   ],
   "source": [
    "import pandas as pd\n",
    "\n",
    "file_path = \"betyg_o_prov_riksnivå.xlsx\" # Read the file\n",
    "df = pd.read_excel(file_path, sheet_name=None) # Create a DataFrame, sheet_name = None to read all sheets\n",
    "\n",
    "\n",
    "\n",
    "\n",
    "cleaned_df = {}\n",
    "for sheet_name, sheet_df in df.items():\n",
    "    df_clean = sheet_df.dropna(how='all') # Drop rows where all cells are NA\n",
    "    df_clean = df_clean.dropna(axis=1, how='all') # Drop columns where all cells are NA\n",
    "    df_clean = df_clean.iloc[10:] # Drop the first 10 rows\n",
    "    \n",
    "    cleaned_df[sheet_name] = df_clean # Save the cleaned DataFrame in a dictionary\n",
    "\n",
    "for sheet, df in cleaned_df.items():\n",
    "    print(sheet)\n",
    "    print(df.head())\n",
    "    print()\n",
    "\n",
    "\n",
    "\n"
   ]
  }
 ],
 "metadata": {
  "kernelspec": {
   "display_name": ".venv",
   "language": "python",
   "name": "python3"
  },
  "language_info": {
   "codemirror_mode": {
    "name": "ipython",
    "version": 3
   },
   "file_extension": ".py",
   "mimetype": "text/x-python",
   "name": "python",
   "nbconvert_exporter": "python",
   "pygments_lexer": "ipython3",
   "version": "3.12.2"
  }
 },
 "nbformat": 4,
 "nbformat_minor": 2
}
