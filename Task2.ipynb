{
 "cells": [
  {
   "cell_type": "markdown",
   "metadata": {},
   "source": [
    "## Task 2A"
   ]
  },
  {
   "cell_type": "code",
   "execution_count": 124,
   "metadata": {},
   "outputs": [
    {
     "name": "stdout",
     "output_type": "stream",
     "text": [
      "                                                    0  \\\n",
      "0             Grundskolan – Betyg och Prov – Riksnivå   \n",
      "1                                                       \n",
      "2                                                       \n",
      "3   Tabell 1B: Resultat av slutbetyg för elever so...   \n",
      "4                                                 NaN   \n",
      "5                           Läsår\\nHuvudman\\nBakgrund   \n",
      "6                                                 NaN   \n",
      "7                                                 NaN   \n",
      "8                                             2018/19   \n",
      "9                                             2019/20   \n",
      "10                                            2020/21   \n",
      "11                                            2021/22   \n",
      "12                                            2022/23   \n",
      "\n",
      "                                                    1        2       3  \\\n",
      "0                                                 NaN      NaN     NaN   \n",
      "1                                                 NaN      NaN     NaN   \n",
      "2                                                 NaN      NaN     NaN   \n",
      "3                                                 NaN      NaN     NaN   \n",
      "4                                                 NaN      NaN     NaN   \n",
      "5   Elever som avslutat åk 9 som fått eller skulle...      NaN     NaN   \n",
      "6      Genomsnittligt meritvärde beräknat på 16 ämnen      NaN     NaN   \n",
      "7                                              Totalt  Flickor  Pojkar   \n",
      "8                                               221.7    234.3   209.8   \n",
      "9                                               222.9    235.7   210.9   \n",
      "10                                              223.9    235.4   212.9   \n",
      "11                                              221.2    231.6   211.4   \n",
      "12                                              220.6    229.7   211.9   \n",
      "\n",
      "                                                  4        5       6  \\\n",
      "0                                               NaN      NaN     NaN   \n",
      "1                                               NaN      NaN     NaN   \n",
      "2                                               NaN      NaN     NaN   \n",
      "3                                               NaN      NaN     NaN   \n",
      "4                                               NaN      NaN     NaN   \n",
      "5                                               NaN      NaN     NaN   \n",
      "6   Genomsnittligt meritvärde beräknat på 17 ämnen3      NaN     NaN   \n",
      "7                                            Totalt  Flickor  Pojkar   \n",
      "8                                             229.8    243.3     217   \n",
      "9                                             231.1    244.9   218.2   \n",
      "10                                            232.1    244.4   220.3   \n",
      "11                                            229.2    240.3   218.8   \n",
      "12                                            228.5    238.2   219.3   \n",
      "\n",
      "                                                    7        8       9  \n",
      "0                                                 NaN      NaN     NaN  \n",
      "1                                                 NaN      NaN     NaN  \n",
      "2                                                 NaN      NaN     NaN  \n",
      "3                                                 NaN      NaN     NaN  \n",
      "4                                                 NaN      NaN     NaN  \n",
      "5                                                 NaN      NaN     NaN  \n",
      "6   Andel (%) elever som saknar godkänt betyg i et...      NaN     NaN  \n",
      "7                                              Totalt  Flickor  Pojkar  \n",
      "8                                                24.5     21.7    27.2  \n",
      "9                                                23.9     21.4    26.3  \n",
      "10                                               23.9     21.9    25.9  \n",
      "11                                               25.9     24.2    27.5  \n",
      "12                                               26.8     25.5      28  \n"
     ]
    }
   ],
   "source": [
    "import pandas as pd\n",
    "\n",
    "#Reading the excel-file page2 for the right information, and skip 6 rows to the right information\n",
    "df = pd.read_excel(\"betyg_o_prov_riksnivå.xlsx\",header=None, sheet_name= 1) \n",
    "\n",
    "\n",
    "\n",
    "print(df.head(13))\n",
    "\n"
   ]
  },
  {
   "cell_type": "code",
   "execution_count": 125,
   "metadata": {},
   "outputs": [
    {
     "name": "stdout",
     "output_type": "stream",
     "text": [
      "     Läsår Totalt Flickor Pojkar\n",
      "0  2018/19   24.5    21.7   27.2\n",
      "1  2019/20   23.9    21.4   26.3\n",
      "2  2020/21   23.9    21.9   25.9\n",
      "3  2021/22   25.9    24.2   27.5\n",
      "4  2022/23   26.8    25.5     28\n"
     ]
    }
   ],
   "source": [
    "# Data Cleaning\n",
    "\n",
    "years = df.iloc[8:13,0].reset_index(drop=True) #Receving 'läsår'\n",
    "\n",
    "\n",
    "totalt = df.iloc[8:13, 7].reset_index(drop=True)\n",
    "flickor = df.iloc[8:13, 8].reset_index(drop=True) # Receving \"Totalt, Flickor, Pojkar\" för den andel som saknar godkänt betyg\n",
    "pojkar = df.iloc[8:13, 9].reset_index(drop=True)\n",
    "\n",
    "data = pd.DataFrame({ #creating new Dataframe with the right columns\n",
    "    \"Läsår\": years,\n",
    "    \"Totalt\": totalt,\n",
    "    \"Flickor\": flickor,\n",
    "    \"Pojkar\": pojkar\n",
    "})\n",
    "\n",
    "\n",
    "# Remove rows with missing data\n",
    "data = data.dropna()\n",
    "\n",
    "\n",
    "print(data)\n"
   ]
  },
  {
   "cell_type": "code",
   "execution_count": 127,
   "metadata": {},
   "outputs": [
    {
     "ename": "ValueError",
     "evalue": "Mime type rendering requires nbformat>=4.2.0 but it is not installed",
     "output_type": "error",
     "traceback": [
      "\u001b[31m---------------------------------------------------------------------------\u001b[39m",
      "\u001b[31mValueError\u001b[39m                                Traceback (most recent call last)",
      "\u001b[36mCell\u001b[39m\u001b[36m \u001b[39m\u001b[32mIn[127]\u001b[39m\u001b[32m, line 14\u001b[39m\n\u001b[32m     11\u001b[39m fig.write_html(\u001b[33m\"\u001b[39m\u001b[33mVisualiseringar/andel_icke_godkanda.html\u001b[39m\u001b[33m\"\u001b[39m)\n\u001b[32m     13\u001b[39m \u001b[38;5;66;03m# Show \u001b[39;00m\n\u001b[32m---> \u001b[39m\u001b[32m14\u001b[39m \u001b[43mfig\u001b[49m\u001b[43m.\u001b[49m\u001b[43mshow\u001b[49m\u001b[43m(\u001b[49m\u001b[43m)\u001b[49m\n",
      "\u001b[36mFile \u001b[39m\u001b[32mc:\\Users\\Casper\\Documents\\Labb2\\AI1_Pyhton_Labb2\\.venv\\Lib\\site-packages\\plotly\\basedatatypes.py:3414\u001b[39m, in \u001b[36mBaseFigure.show\u001b[39m\u001b[34m(self, *args, **kwargs)\u001b[39m\n\u001b[32m   3381\u001b[39m \u001b[38;5;250m\u001b[39m\u001b[33;03m\"\"\"\u001b[39;00m\n\u001b[32m   3382\u001b[39m \u001b[33;03mShow a figure using either the default renderer(s) or the renderer(s)\u001b[39;00m\n\u001b[32m   3383\u001b[39m \u001b[33;03mspecified by the renderer argument\u001b[39;00m\n\u001b[32m   (...)\u001b[39m\u001b[32m   3410\u001b[39m \u001b[33;03mNone\u001b[39;00m\n\u001b[32m   3411\u001b[39m \u001b[33;03m\"\"\"\u001b[39;00m\n\u001b[32m   3412\u001b[39m \u001b[38;5;28;01mimport\u001b[39;00m\u001b[38;5;250m \u001b[39m\u001b[34;01mplotly\u001b[39;00m\u001b[34;01m.\u001b[39;00m\u001b[34;01mio\u001b[39;00m\u001b[38;5;250m \u001b[39m\u001b[38;5;28;01mas\u001b[39;00m\u001b[38;5;250m \u001b[39m\u001b[34;01mpio\u001b[39;00m\n\u001b[32m-> \u001b[39m\u001b[32m3414\u001b[39m \u001b[38;5;28;01mreturn\u001b[39;00m \u001b[43mpio\u001b[49m\u001b[43m.\u001b[49m\u001b[43mshow\u001b[49m\u001b[43m(\u001b[49m\u001b[38;5;28;43mself\u001b[39;49m\u001b[43m,\u001b[49m\u001b[43m \u001b[49m\u001b[43m*\u001b[49m\u001b[43margs\u001b[49m\u001b[43m,\u001b[49m\u001b[43m \u001b[49m\u001b[43m*\u001b[49m\u001b[43m*\u001b[49m\u001b[43mkwargs\u001b[49m\u001b[43m)\u001b[49m\n",
      "\u001b[36mFile \u001b[39m\u001b[32mc:\\Users\\Casper\\Documents\\Labb2\\AI1_Pyhton_Labb2\\.venv\\Lib\\site-packages\\plotly\\io\\_renderers.py:425\u001b[39m, in \u001b[36mshow\u001b[39m\u001b[34m(fig, renderer, validate, **kwargs)\u001b[39m\n\u001b[32m    420\u001b[39m     \u001b[38;5;28;01mraise\u001b[39;00m \u001b[38;5;167;01mValueError\u001b[39;00m(\n\u001b[32m    421\u001b[39m         \u001b[33m\"\u001b[39m\u001b[33mMime type rendering requires ipython but it is not installed\u001b[39m\u001b[33m\"\u001b[39m\n\u001b[32m    422\u001b[39m     )\n\u001b[32m    424\u001b[39m \u001b[38;5;28;01mif\u001b[39;00m \u001b[38;5;129;01mnot\u001b[39;00m nbformat \u001b[38;5;129;01mor\u001b[39;00m Version(nbformat.__version__) < Version(\u001b[33m\"\u001b[39m\u001b[33m4.2.0\u001b[39m\u001b[33m\"\u001b[39m):\n\u001b[32m--> \u001b[39m\u001b[32m425\u001b[39m     \u001b[38;5;28;01mraise\u001b[39;00m \u001b[38;5;167;01mValueError\u001b[39;00m(\n\u001b[32m    426\u001b[39m         \u001b[33m\"\u001b[39m\u001b[33mMime type rendering requires nbformat>=4.2.0 but it is not installed\u001b[39m\u001b[33m\"\u001b[39m\n\u001b[32m    427\u001b[39m     )\n\u001b[32m    429\u001b[39m display_jupyter_version_warnings()\n\u001b[32m    431\u001b[39m ipython_display.display(bundle, raw=\u001b[38;5;28;01mTrue\u001b[39;00m)\n",
      "\u001b[31mValueError\u001b[39m: Mime type rendering requires nbformat>=4.2.0 but it is not installed"
     ]
    }
   ],
   "source": [
    "#Plotting \n",
    "\n",
    "import plotly.express as px\n",
    "\n",
    "# Create the line diagram\n",
    "fig = px.line(data, x=\"Läsår\", y=[\"Totalt\", \"Flickor\", \"Pojkar\"], \n",
    "              markers=True, \n",
    "              title=\"Andel elever som saknar godkänt betyg i minst ett ämne (2018-2023)\",\n",
    "              labels={\"value\": \"Procent (%)\", \"variable\": \"Kategori\"})\n",
    "\n",
    "fig.write_html(\"Visualiseringar/andel_icke_godkanda.html\")\n",
    "\n",
    "# Show \n",
    "fig.show()"
   ]
  },
  {
   "cell_type": "markdown",
   "metadata": {},
   "source": [
    "## Task 2b\n"
   ]
  },
  {
   "cell_type": "code",
   "execution_count": null,
   "metadata": {},
   "outputs": [],
   "source": [
    "df_2b = pd.read_excel(\"betyg_o_prov_riksnivå.xlsx\", sheet_name=1)"
   ]
  }
 ],
 "metadata": {
  "kernelspec": {
   "display_name": ".venv",
   "language": "python",
   "name": "python3"
  },
  "language_info": {
   "codemirror_mode": {
    "name": "ipython",
    "version": 3
   },
   "file_extension": ".py",
   "mimetype": "text/x-python",
   "name": "python",
   "nbconvert_exporter": "python",
   "pygments_lexer": "ipython3",
   "version": "3.12.2"
  }
 },
 "nbformat": 4,
 "nbformat_minor": 2
}
